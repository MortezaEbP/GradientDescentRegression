{
 "cells": [
  {
   "cell_type": "markdown",
   "source": [
    "<div class='alert alert-success'>\n",
    "    <h1 align=\"center\">Gradient Descent Regression</h1>\n",
    "    <h3 align=\"center\">implementation Of Machine Learning Algorithms </h3>\n",
    "    <h5 align=\"center\">Morteza Ebrahim Pour <a href='https://github.com/MortezaEbP/GradientDescentRegression'>2023</a></h5>\n",
    "</div>\n"
   ],
   "metadata": {
    "collapsed": false
   }
  },
  {
   "cell_type": "code",
   "execution_count": null,
   "metadata": {
    "collapsed": true
   },
   "outputs": [],
   "source": [
    "import numpy as np\n",
    "\n",
    "class GradientDescentRegression:\n",
    "\n",
    "    def __init__(self):\n",
    "        \"\"\"\n",
    "        Initialize the Gradient Descent Regression model.\n",
    "        \"\"\"\n",
    "        self.max_iteration = None\n",
    "        self.lr = None\n",
    "        self.coefs_ = None  # weights of your model\n",
    "        self.intercept_ = None  # bias of your model\n",
    "\n",
    "    def fit(self, X_train, y_train, lr=0.01, max_iteration=1000):\n",
    "        \"\"\"\n",
    "        Fit the Gradient Descent Regression model to the training data.\n",
    "\n",
    "        Parameters:\n",
    "            X_train (numpy.ndarray): Training data features with shape (n_samples, n_features).\n",
    "            y_train (numpy.ndarray): Target values with shape (n_samples,).\n",
    "            lr (float): Learning rate, determines the step size in the gradient descent update (default=0.1).\n",
    "            max_iteration (int): Maximum number of iterations for gradient descent (default=1000).\n",
    "        \"\"\"\n",
    "        self.lr = lr\n",
    "        self.max_iteration = max_iteration\n",
    "        self.intercept_ = 0\n",
    "        self.coefs_ = np.zeros(X_train.shape[1])\n",
    "        X_train = np.array(X_train)\n",
    "        y_train = np.array(y_train).reshape(len(y_train))\n",
    "        m = X_train.shape[0]\n",
    "        for i in range(self.max_iteration):\n",
    "            fx = np.dot(X_train, self.coefs_) + self.intercept_\n",
    "            intercept_gradient = -np.mean(y_train - fx)\n",
    "            self.intercept_ -= self.lr * intercept_gradient\n",
    "\n",
    "            coefficient_gradient = -np.dot((y_train - fx), X_train) / m\n",
    "            self.coefs_ -= self.lr * coefficient_gradient\n",
    "\n",
    "    def predict(self, X):\n",
    "        \"\"\"\n",
    "        Make predictions using the trained model.\n",
    "\n",
    "        Parameters:\n",
    "            X (numpy.ndarray): Input data with shape (n_samples, n_features).\n",
    "\n",
    "        Returns:\n",
    "            numpy.ndarray: Predicted target values with shape (n_samples,).\n",
    "        \"\"\"\n",
    "        return np.dot(X, self.coefs_) + self.intercept_\n",
    "\n",
    "    def score(self, X, y_actual):\n",
    "        \"\"\"\n",
    "        Calculate the coefficient of determination (R^2 score) of the model.\n",
    "\n",
    "        Parameters:\n",
    "            X (numpy.ndarray): Input data with shape (n_samples, n_features).\n",
    "            y_actual (numpy.ndarray): Actual target values with shape (n_samples,).\n",
    "\n",
    "        Returns:\n",
    "            float: The R^2 score indicating the goodness of fit of the model.\n",
    "        \"\"\"\n",
    "        y_actual = np.array(y_actual).reshape(len(y_actual))\n",
    "        y_pred = self.predict(X)\n",
    "        mean_y_actual = np.mean(y_actual)\n",
    "        return 1 - (np.sum((y_actual - y_pred) ** 2) / np.sum((y_actual - mean_y_actual) ** 2))\n"
   ]
  }
 ],
 "metadata": {
  "kernelspec": {
   "display_name": "Python 3",
   "language": "python",
   "name": "python3"
  },
  "language_info": {
   "codemirror_mode": {
    "name": "ipython",
    "version": 2
   },
   "file_extension": ".py",
   "mimetype": "text/x-python",
   "name": "python",
   "nbconvert_exporter": "python",
   "pygments_lexer": "ipython2",
   "version": "2.7.6"
  }
 },
 "nbformat": 4,
 "nbformat_minor": 0
}
