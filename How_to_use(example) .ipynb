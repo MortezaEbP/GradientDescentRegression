{
 "cells": [
  {
   "cell_type": "code",
   "execution_count": null,
   "outputs": [],
   "source": [],
   "metadata": {
    "collapsed": false
   }
  },
  {
   "cell_type": "code",
   "execution_count": null,
   "outputs": [],
   "source": [],
   "metadata": {
    "collapsed": false
   }
  },
  {
   "cell_type": "code",
   "execution_count": 2,
   "outputs": [],
   "source": [
    "import numpy as np\n",
    "\n",
    "class GradientDescentRegression:\n",
    "\n",
    "    def __init__(self):\n",
    "        \"\"\"\n",
    "        Initialize the Gradient Descent Regression model.\n",
    "        \"\"\"\n",
    "        self.max_iteration = None\n",
    "        self.lr = None\n",
    "        self.coefs_ = None  # weights of your model\n",
    "        self.intercept_ = None  # bias of your model\n",
    "\n",
    "    def fit(self, X_train, y_train, lr=0.01, max_iteration=1000):\n",
    "        \"\"\"\n",
    "        Fit the Gradient Descent Regression model to the training data.\n",
    "\n",
    "        Parameters:\n",
    "            X_train (numpy.ndarray): Training data features with shape (n_samples, n_features).\n",
    "            y_train (numpy.ndarray): Target values with shape (n_samples,).\n",
    "            lr (float): Learning rate, determines the step size in the gradient descent update (default=0.1).\n",
    "            max_iteration (int): Maximum number of iterations for gradient descent (default=1000).\n",
    "        \"\"\"\n",
    "        self.lr = lr\n",
    "        self.max_iteration = max_iteration\n",
    "        self.intercept_ = 0\n",
    "        self.coefs_ = np.zeros(X_train.shape[1])\n",
    "        X_train = np.array(X_train)\n",
    "        y_train = np.array(y_train).reshape(len(y_train))\n",
    "        m = X_train.shape[0]\n",
    "        for i in range(self.max_iteration):\n",
    "            fx = np.dot(X_train, self.coefs_) + self.intercept_\n",
    "            intercept_gradient = -np.mean(y_train - fx)\n",
    "            self.intercept_ -= self.lr * intercept_gradient\n",
    "\n",
    "            coefficient_gradient = -np.dot((y_train - fx), X_train) / m\n",
    "            self.coefs_ -= self.lr * coefficient_gradient\n",
    "\n",
    "    def predict(self, X):\n",
    "        \"\"\"\n",
    "        Make predictions using the trained model.\n",
    "\n",
    "        Parameters:\n",
    "            X (numpy.ndarray): Input data with shape (n_samples, n_features).\n",
    "\n",
    "        Returns:\n",
    "            numpy.ndarray: Predicted target values with shape (n_samples,).\n",
    "        \"\"\"\n",
    "        return np.dot(X, self.coefs_) + self.intercept_\n",
    "\n",
    "    def score(self, X, y_actual):\n",
    "        \"\"\"\n",
    "        Calculate the coefficient of determination (R^2 score) of the model.\n",
    "\n",
    "        Parameters:\n",
    "            X (numpy.ndarray): Input data with shape (n_samples, n_features).\n",
    "            y_actual (numpy.ndarray): Actual target values with shape (n_samples,).\n",
    "\n",
    "        Returns:\n",
    "            float: The R^2 score indicating the goodness of fit of the model.\n",
    "        \"\"\"\n",
    "        y_actual = np.array(y_actual).reshape(len(y_actual))\n",
    "        y_pred = self.predict(X)\n",
    "        mean_y_actual = np.mean(y_actual)\n",
    "        return 1 - (np.sum((y_actual - y_pred) ** 2) / np.sum((y_actual - mean_y_actual) ** 2))\n"
   ],
   "metadata": {
    "collapsed": false
   }
  },
  {
   "cell_type": "markdown",
   "source": [
    "# Example"
   ],
   "metadata": {
    "collapsed": false
   }
  },
  {
   "cell_type": "code",
   "execution_count": 1,
   "outputs": [],
   "source": [
    "import numpy as np\n",
    "import matplotlib.pyplot as plt\n",
    "import seaborn as sns\n",
    "import pandas as pd\n",
    "np.random.seed(42)\n",
    "from sklearn.model_selection import train_test_split\n",
    "from sklearn.preprocessing import StandardScaler\n",
    "\n",
    "df = pd.read_csv(\"...\\\\insurance.csv\")\n",
    "\n",
    "sexes = pd.get_dummies(df[\"sex\"])\n",
    "regions = pd.get_dummies(df[\"region\"])\n",
    "smokers = pd.get_dummies(df[\"smoker\"])\n",
    "df2 = pd.concat([df, sexes, regions, smokers], axis=1)\n",
    "df2 = df2.drop([\"sex\", \"region\", \"smoker\"], axis=1)\n",
    "charges = df2.pop('charges')\n",
    "df2.insert(0, 'charges', charges)\n",
    "\n",
    "xtrain, xtest, ytrain, ytest = train_test_split(df2.iloc[:, 1:], df2.iloc[:, 0])\n",
    "sc=StandardScaler()\n",
    "xtrain=sc.fit_transform(xtrain)\n",
    "xtest=sc.transform(xtest)"
   ],
   "metadata": {
    "collapsed": false
   }
  },
  {
   "cell_type": "markdown",
   "source": [
    "# Usage (Example Result)"
   ],
   "metadata": {
    "collapsed": false
   }
  },
  {
   "cell_type": "code",
   "execution_count": 8,
   "outputs": [
    {
     "name": "stdout",
     "output_type": "stream",
     "text": [
      "R-Square : 0.7672642952734356\n"
     ]
    }
   ],
   "source": [
    "GD = GradientDescentRegression()\n",
    "GD.fit(xtrain, ytrain,lr=0.294,max_iteration=1000)\n",
    "prediction = GD.predict(xtest)\n",
    "print(f\"R-Square : {GD.score(xtest, ytest)}\")"
   ],
   "metadata": {
    "collapsed": false
   }
  },
  {
   "cell_type": "code",
   "execution_count": null,
   "outputs": [],
   "source": [],
   "metadata": {
    "collapsed": false
   }
  },
  {
   "cell_type": "code",
   "execution_count": 40,
   "outputs": [
    {
     "name": "stderr",
     "output_type": "stream",
     "text": [
      "No artists with labels found to put in legend.  Note that artists whose label start with an underscore are ignored when legend() is called with no argument.\n"
     ]
    },
    {
     "data": {
      "text/plain": "<Figure size 640x480 with 1 Axes>",
      "image/png": "[encoded data removed]"
     },
     "metadata": {},
     "output_type": "display_data"
    }
   ],
   "source": [
    "import matplotlib.pyplot as plt\n",
    "\n",
    "GD = GradientDescentRegression()\n",
    "scor = []\n",
    "LR = list(np.linspace(0.001,0.04,50))\n",
    "for r in range(len(LR)):\n",
    "    GD.fit(xtrain, ytrain, lr=LR[r], max_iteration=100)\n",
    "    scor.append(GD.score(xtest, ytest))\n",
    "\n",
    "plt.plot(LR,scor, color=\"red\", marker=\"o\")\n",
    "plt.xlabel('Learning rate')\n",
    "plt.ylabel('score')\n",
    "plt.title('LR effect on Score')\n",
    "plt.legend()\n",
    "plt.show()"
   ],
   "metadata": {
    "collapsed": false
   }
  },
  {
   "cell_type": "markdown",
   "source": [
    "# Compare with SKlearn Linear Regression"
   ],
   "metadata": {
    "collapsed": false
   }
  },
  {
   "cell_type": "code",
   "execution_count": 9,
   "outputs": [
    {
     "name": "stdout",
     "output_type": "stream",
     "text": [
      "R-Square : 0.7672642952734356\n"
     ]
    }
   ],
   "source": [
    "from sklearn.linear_model import LinearRegression\n",
    "lm = LinearRegression()\n",
    "lm.fit(xtrain, ytrain)\n",
    "print(f\"R-Square : {lm.score(xtest, ytest)}\")"
   ],
   "metadata": {
    "collapsed": false
   }
  },
  {
   "cell_type": "code",
   "execution_count": null,
   "outputs": [],
   "source": [],
   "metadata": {
    "collapsed": false,
    "pycharm": {
     "is_executing": true
    }
   }
  },
  {
   "cell_type": "code",
   "execution_count": 6,
   "outputs": [],
   "source": [],
   "metadata": {
    "collapsed": false
   }
  }
 ],
 "metadata": {
  "kernelspec": {
   "display_name": "Python 3",
   "language": "python",
   "name": "python3"
  },
  "language_info": {
   "codemirror_mode": {
    "name": "ipython",
    "version": 2
   },
   "file_extension": ".py",
   "mimetype": "text/x-python",
   "name": "python",
   "nbconvert_exporter": "python",
   "pygments_lexer": "ipython2",
   "version": "2.7.6"
  }
 },
 "nbformat": 4,
 "nbformat_minor": 0
}
